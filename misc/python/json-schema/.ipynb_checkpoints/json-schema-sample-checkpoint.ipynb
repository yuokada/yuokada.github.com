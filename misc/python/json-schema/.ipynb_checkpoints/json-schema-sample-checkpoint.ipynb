{
 "cells": [
  {
   "cell_type": "code",
   "execution_count": 35,
   "metadata": {
    "collapsed": true
   },
   "outputs": [],
   "source": [
    "from jsonschema import validate"
   ]
  },
  {
   "cell_type": "code",
   "execution_count": 36,
   "metadata": {
    "collapsed": false
   },
   "outputs": [],
   "source": [
    "schema = '''{\n",
    "    \"$schema\": \"http://json-schema.org/draft-04/schema#\",\n",
    "    \"title\": \"Product set\",\n",
    "    \"type\": \"array\",\n",
    "    \"items\": {\n",
    "        \"title\": \"Product\",\n",
    "        \"type\": \"object\",\n",
    "        \"properties\": {\n",
    "            \"id\": {\n",
    "                \"description\": \"The unique identifier for a product\",\n",
    "                \"type\": \"number\"\n",
    "            },\n",
    "            \"name\": {\n",
    "                \"type\": \"string\"\n",
    "            },\n",
    "            \"price\": {\n",
    "                \"type\": \"number\",\n",
    "                \"minimum\": 0,\n",
    "                \"exclusiveMinimum\": true\n",
    "            },\n",
    "            \"tags\": {\n",
    "                \"type\": \"array\",\n",
    "                \"items\": {\n",
    "                    \"type\": \"string\"\n",
    "                },\n",
    "                \"minItems\": 1,\n",
    "                \"uniqueItems\": true\n",
    "            },\n",
    "            \"dimensions\": {\n",
    "                \"type\": \"object\",\n",
    "                \"properties\": {\n",
    "                    \"length\": {\"type\": \"number\"},\n",
    "                    \"width\": {\"type\": \"number\"},\n",
    "                    \"height\": {\"type\": \"number\"}\n",
    "                },\n",
    "                \"required\": [\"length\", \"width\", \"height\"]\n",
    "            },\n",
    "            \"warehouseLocation\": {\n",
    "                \"description\": \"Coordinates of the warehouse with the product\",\n",
    "                \"$ref\": \"http://json-schema.org/geo\"\n",
    "            }\n",
    "        },\n",
    "        \"required\": [\"id\", \"name\", \"price\"]\n",
    "    }\n",
    "}\n",
    "'''"
   ]
  },
  {
   "cell_type": "code",
   "execution_count": 37,
   "metadata": {
    "collapsed": true
   },
   "outputs": [],
   "source": [
    "import json\n",
    "schema_dict = json.loads(schema)"
   ]
  },
  {
   "cell_type": "code",
   "execution_count": 38,
   "metadata": {
    "collapsed": false
   },
   "outputs": [],
   "source": [
    "sample_json_dict = [\n",
    "    {\n",
    "        \"id\": 2,\n",
    "        \"name\": \"An ice sculpture\",\n",
    "        \"price\": 12.50,\n",
    "        \"tags\": [\"cold\", \"ice\"],\n",
    "        \"dimensions\": {\n",
    "            \"length\": 7.0,\n",
    "            \"width\": 12.0,\n",
    "            \"height\": 9.5\n",
    "        },\n",
    "        \"warehouseLocation\": {\n",
    "            \"latitude\": -78.75,\n",
    "            \"longitude\": 20.4\n",
    "        }\n",
    "    },\n",
    "    {\n",
    "        \"id\": 3,\n",
    "        \"name\": \"A blue mouse\",\n",
    "        \"price\": 25.50,\n",
    "        \"dimensions\": {\n",
    "            \"length\": 3.1,\n",
    "            \"width\": 1.0,\n",
    "            \"height\": 1.0\n",
    "        },\n",
    "        \"warehouseLocation\": {\n",
    "            \"latitude\": 54.4,\n",
    "            \"longitude\": -32.7\n",
    "        }\n",
    "    }\n",
    "]"
   ]
  },
  {
   "cell_type": "code",
   "execution_count": 40,
   "metadata": {
    "collapsed": false
   },
   "outputs": [],
   "source": [
    "validate(sample_json_dict, schema_dict)"
   ]
  },
  {
   "cell_type": "code",
   "execution_count": null,
   "metadata": {
    "collapsed": false
   },
   "outputs": [],
   "source": []
  }
 ],
 "metadata": {
  "kernelspec": {
   "display_name": "Python 2",
   "language": "python",
   "name": "python2"
  },
  "language_info": {
   "codemirror_mode": {
    "name": "ipython",
    "version": 2
   },
   "file_extension": ".py",
   "mimetype": "text/x-python",
   "name": "python",
   "nbconvert_exporter": "python",
   "pygments_lexer": "ipython2",
   "version": "2.7.10"
  }
 },
 "nbformat": 4,
 "nbformat_minor": 2
}
